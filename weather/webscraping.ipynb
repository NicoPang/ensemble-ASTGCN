{
 "cells": [
  {
   "cell_type": "markdown",
   "id": "f8cc681d",
   "metadata": {},
   "source": [
    "# Weather data collection"
   ]
  },
  {
   "cell_type": "code",
   "execution_count": 96,
   "id": "c68b7a66",
   "metadata": {},
   "outputs": [],
   "source": [
    "# Imports\n",
    "from selenium import webdriver\n",
    "from selenium.webdriver.chrome.service import Service\n",
    "from selenium.webdriver.common.by import By \n",
    "\n",
    "import numpy as np\n",
    "\n",
    "import time\n",
    "from datetime import date, timedelta"
   ]
  },
  {
   "cell_type": "code",
   "execution_count": 56,
   "id": "e9a70a76",
   "metadata": {},
   "outputs": [],
   "source": [
    "baseURL = 'https://www.wunderground.com/history/daily/'\n",
    "sfAddonURL = 'us/ca/san-bruno/KSFO/date/'\n",
    "sbAddonURL = 'us/ca/san-bernardino/KSBD/date/'"
   ]
  },
  {
   "cell_type": "code",
   "execution_count": null,
   "id": "1d0c9ed5",
   "metadata": {},
   "outputs": [],
   "source": [
    "sf_dailies = []\n",
    "sb_dailies = []"
   ]
  },
  {
   "cell_type": "code",
   "execution_count": 57,
   "id": "6079c786",
   "metadata": {},
   "outputs": [],
   "source": [
    "# creates a range of dates from start date to < end date\n",
    "# format is yyyy/mm/dd\n",
    "def getDateRange(start_date, end_date):\n",
    "    for n in range(int((end_date - start_date).days)):\n",
    "        yield start_date + timedelta(n)\n",
    "\n",
    "sfDateURLs = []\n",
    "sbDateURLs = []\n",
    "\n",
    "# create array of dates for San Francisco\n",
    "for single_date in getDateRange(date(2017, 12, 31), date(2018, 3, 2)):\n",
    "    sfDateURLs.append(single_date.strftime(\"%Y-%-m-%-d\"))\n",
    "    \n",
    "# create array of dates for San Bernardino\n",
    "for single_date in getDateRange(date(2016, 6, 30), date(2016, 9, 2)):\n",
    "    sbDateURLs.append(single_date.strftime(\"%Y-%-m-%-d\"))"
   ]
  },
  {
   "cell_type": "code",
   "execution_count": 108,
   "id": "9979faac",
   "metadata": {
    "scrolled": true
   },
   "outputs": [
    {
     "name": "stdout",
     "output_type": "stream",
     "text": [
      "{'Rain', 'Cloudy / Windy', 'Mostly Cloudy', 'Light Rain', 'Patches of Fog', 'Light Rain / Windy', 'Haze', 'Partly Cloudy', 'Rain / Windy', 'Fair / Windy', 'Heavy Rain / Windy', 'Mist', 'Fair', 'Partly Cloudy / Windy', 'Heavy Rain', 'Mostly Cloudy / Windy', 'Fog', 'Cloudy', 'Blowing Sand'}\n"
     ]
    }
   ],
   "source": [
    "def buildURLForDate(base, loc, date):\n",
    "    return base + loc + date\n",
    "\n",
    "possible_conditions = set()\n",
    "\n",
    "def extractData(base, loc, dates):\n",
    "    PATH = './chromedriver'\n",
    "    service = Service(PATH)\n",
    "    driver = webdriver.Chrome(service = service)\n",
    "    \n",
    "    data = [['Date', 'Time', 'Temperature (F)', 'Humdity', 'Wind Speed (mph)', 'Rainfall (in)', 'Condition', 'Visibility']]\n",
    "    \n",
    "    # All the columns that will be extracted\n",
    "    relevant_selectors = ['.cdk-cell.mat-column-dateString', \n",
    "                          '.cdk-cell.mat-column-temperature', \n",
    "                          '.cdk-cell.mat-column-humidity',\n",
    "                          '.cdk-cell.mat-column-windSpeed',\n",
    "                          '.cdk-cell.mat-column-precipRate',\n",
    "                          '.cdk-cell.mat-column-condition']\n",
    "    for day in range(len(dates)):\n",
    "        # For one webpage\n",
    "        driver.get(buildURLForDate(base, loc, dates[day]))\n",
    "        time.sleep(5)\n",
    "\n",
    "        # Get the visibility\n",
    "        vis = driver.find_element(By.CSS_SELECTOR, '.ng-star-inserted:nth-child(8) .ng-star-inserted+ .ng-star-inserted th+ .ng-star-inserted').text\n",
    "\n",
    "        # Get table elements\n",
    "        table = driver.find_element(By.CSS_SELECTOR, '.observation-table')\n",
    "\n",
    "        inverse_table = []\n",
    "        for selector in relevant_selectors:\n",
    "            a = map(lambda x: x.text, table.find_elements(By.CSS_SELECTOR, selector))\n",
    "            inverse_table.append(list(a))\n",
    "\n",
    "        # Get data per timestamp from transposed matrix\n",
    "        for i in range(len(inverse_table[0])):\n",
    "            single_data = []\n",
    "            single_data.append(dates[day])\n",
    "            # Insert retrieved parameters\n",
    "            for col in inverse_table:\n",
    "                single_data.append(col[i])\n",
    "\n",
    "            single_data.append(vis)\n",
    "            print(single_data, end = '\\r')\n",
    "            data.append(single_data)\n",
    "            possible_conditions.add(single_data[-2])\n",
    "\n",
    "    driver.close()\n",
    "    \n",
    "    return np.array(data, dtype = 'object')\n",
    "\n",
    "sf_data = extractData(baseURL, sfAddonURL, sfDateURLs)\n",
    "np.savetxt('sf-weather.csv', sf_data, fmt = '%s', delimiter = ',')\n",
    "\n",
    "sb_data = extractData(baseURL, sbAddonURL, sbDateURLs)\n",
    "np.savetxt('sb-weather.csv', sb_data, fmt = '%s', delimiter = ',')\n",
    "\n",
    "print(possible_conditions)"
   ]
  },
  {
   "cell_type": "code",
   "execution_count": null,
   "id": "810db922",
   "metadata": {},
   "outputs": [],
   "source": []
  },
  {
   "cell_type": "code",
   "execution_count": null,
   "id": "b42cb5c0",
   "metadata": {},
   "outputs": [],
   "source": []
  },
  {
   "cell_type": "code",
   "execution_count": null,
   "id": "74b3146d",
   "metadata": {},
   "outputs": [],
   "source": []
  }
 ],
 "metadata": {
  "kernelspec": {
   "display_name": "Python 3 (ipykernel)",
   "language": "python",
   "name": "python3"
  },
  "language_info": {
   "codemirror_mode": {
    "name": "ipython",
    "version": 3
   },
   "file_extension": ".py",
   "mimetype": "text/x-python",
   "name": "python",
   "nbconvert_exporter": "python",
   "pygments_lexer": "ipython3",
   "version": "3.9.12"
  }
 },
 "nbformat": 4,
 "nbformat_minor": 5
}
