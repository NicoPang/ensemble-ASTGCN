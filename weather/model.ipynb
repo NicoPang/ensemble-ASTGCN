{
 "cells": [
  {
   "cell_type": "code",
   "execution_count": 6,
   "id": "906416ac",
   "metadata": {},
   "outputs": [],
   "source": [
    "import numpy as np\n",
    "from sklearn.linear_model import LinearRegression\n",
    "from sklearn.model_selection import train_test_split"
   ]
  },
  {
   "cell_type": "code",
   "execution_count": 18,
   "id": "74bed05b",
   "metadata": {},
   "outputs": [],
   "source": [
    "weather_data = np.load('./weather.npz')['data']\n",
    "traffic_data = np.load('./PEMS04.npz')['data']"
   ]
  },
  {
   "cell_type": "code",
   "execution_count": 35,
   "id": "641cba9c",
   "metadata": {},
   "outputs": [],
   "source": [
    "# In order to work with scikit learn, each timestamp has to be listed as a 1d array (307*17, 307*3)\n",
    "def unpack_data(data):\n",
    "    return np.reshape(data, [data.shape[0], data.shape[1] * data.shape[2]])\n",
    "\n",
    "def pack_data(data):\n",
    "    return np.reshape(data, [data.shape[0], 307, -1])"
   ]
  },
  {
   "cell_type": "code",
   "execution_count": 30,
   "id": "ade54387",
   "metadata": {},
   "outputs": [
    {
     "data": {
      "text/plain": [
       "(12744, 5219)"
      ]
     },
     "metadata": {},
     "output_type": "display_data"
    },
    {
     "data": {
      "text/plain": [
       "(4248, 5219)"
      ]
     },
     "metadata": {},
     "output_type": "display_data"
    },
    {
     "data": {
      "text/plain": [
       "(12744, 921)"
      ]
     },
     "metadata": {},
     "output_type": "display_data"
    },
    {
     "data": {
      "text/plain": [
       "(4248, 921)"
      ]
     },
     "metadata": {},
     "output_type": "display_data"
    }
   ],
   "source": [
    "X = unpack_data(weather_data)\n",
    "y = unpack_data(traffic_data)\n",
    "train_X, test_X, train_y, test_y = train_test_split(X, y)\n",
    "display(train_X.shape)\n",
    "display(test_X.shape)\n",
    "display(train_y.shape)\n",
    "display(test_y.shape)"
   ]
  },
  {
   "cell_type": "code",
   "execution_count": 31,
   "id": "8fbf2a02",
   "metadata": {},
   "outputs": [
    {
     "data": {
      "text/plain": [
       "LinearRegression()"
      ]
     },
     "execution_count": 31,
     "metadata": {},
     "output_type": "execute_result"
    }
   ],
   "source": [
    "lr_model = LinearRegression(copy_X = True)\n",
    "lr_model.fit(train_X, train_y)"
   ]
  },
  {
   "cell_type": "code",
   "execution_count": 39,
   "id": "5a78c5da",
   "metadata": {},
   "outputs": [
    {
     "data": {
      "text/plain": [
       "array([[2.80448510e+02, 4.81795410e-02, 6.48809239e+01],\n",
       "       [2.26582049e+02, 7.12580867e-02, 6.22598964e+01],\n",
       "       [2.70625978e+02, 5.92990211e-02, 6.32015435e+01],\n",
       "       [1.95492119e+02, 4.16702337e-02, 6.55528225e+01],\n",
       "       [1.22704107e+02, 5.76480213e-02, 6.36389727e+01]])"
      ]
     },
     "metadata": {},
     "output_type": "display_data"
    },
    {
     "data": {
      "text/plain": [
       "array([[5.90e+01, 7.10e-03, 6.99e+01],\n",
       "       [1.26e+02, 3.50e-02, 6.30e+01],\n",
       "       [1.59e+02, 2.73e-02, 7.05e+01],\n",
       "       [2.30e+01, 5.40e-03, 6.67e+01],\n",
       "       [1.90e+01, 7.20e-03, 6.71e+01]])"
      ]
     },
     "metadata": {},
     "output_type": "display_data"
    }
   ],
   "source": [
    "y_predict = lr_model.predict(test_X)\n",
    "display(pack_data(y_predict)[0, 0:5])\n",
    "display(pack_data(test_y)[0, 0:5])"
   ]
  },
  {
   "cell_type": "code",
   "execution_count": null,
   "id": "17e60bb7",
   "metadata": {},
   "outputs": [],
   "source": []
  }
 ],
 "metadata": {
  "kernelspec": {
   "display_name": "Python 3 (ipykernel)",
   "language": "python",
   "name": "python3"
  },
  "language_info": {
   "codemirror_mode": {
    "name": "ipython",
    "version": 3
   },
   "file_extension": ".py",
   "mimetype": "text/x-python",
   "name": "python",
   "nbconvert_exporter": "python",
   "pygments_lexer": "ipython3",
   "version": "3.9.12"
  }
 },
 "nbformat": 4,
 "nbformat_minor": 5
}
